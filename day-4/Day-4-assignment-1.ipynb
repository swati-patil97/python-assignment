{
 "cells": [
  {
   "cell_type": "code",
   "execution_count": 12,
   "metadata": {},
   "outputs": [
    {
     "name": "stdout",
     "output_type": "stream",
     "text": [
      "String is:- what we think we become; we are python programer\n",
      "substring is:- we\n",
      "accurences are:[5, 14, 25]\n"
     ]
    }
   ],
   "source": [
    "string = \"what we think we become; we are python programer\"\n",
    "substr =\"we\"\n",
    "\n",
    "print(\"String is:-\",string)\n",
    "print(\"substring is:-\",substr)\n",
    "\n",
    "res = [i for i in range(len(string))if string.startswith(substr,i)]\n",
    "\n",
    "print(\"accurences are:\" +str(res))"
   ]
  },
  {
   "cell_type": "code",
   "execution_count": null,
   "metadata": {},
   "outputs": [],
   "source": []
  }
 ],
 "metadata": {
  "kernelspec": {
   "display_name": "Python 3",
   "language": "python",
   "name": "python3"
  },
  "language_info": {
   "codemirror_mode": {
    "name": "ipython",
    "version": 3
   },
   "file_extension": ".py",
   "mimetype": "text/x-python",
   "name": "python",
   "nbconvert_exporter": "python",
   "pygments_lexer": "ipython3",
   "version": "3.7.6"
  }
 },
 "nbformat": 4,
 "nbformat_minor": 4
}
