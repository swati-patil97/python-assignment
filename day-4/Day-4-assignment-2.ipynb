{
 "cells": [
  {
   "cell_type": "markdown",
   "metadata": {},
   "source": [
    "issupper() and islower() both are in-built methods in python.\n",
    "\n",
    "1)String isupper() method\n",
    "\n",
    "  isipper() returns \"true if all charecters of the string are uppercase character.\n",
    "  \n",
    "syntax\n",
    "  \n",
    "  string.isupper()\n",
    "  \n",
    " retuen types:\n",
    " *true- if all characters of the string are uppercase characters.\n",
    " *false- if any of the characters is not in uppercase character."
   ]
  },
  {
   "cell_type": "code",
   "execution_count": 3,
   "metadata": {},
   "outputs": [
    {
     "name": "stdout",
     "output_type": "stream",
     "text": [
      "True\n",
      "True\n",
      "False\n",
      "False\n"
     ]
    }
   ],
   "source": [
    "str1 = \"SWATI\"\n",
    "print(str1.isupper())\n",
    "str2 = \"SWATI.PATIL\"\n",
    "print(str2.isupper())\n",
    "str3 = \"SWATI.patil\"\n",
    "print(str3.isupper())\n",
    "str4 = \"swati.patil\"\n",
    "print(str4.isupper())"
   ]
  },
  {
   "cell_type": "markdown",
   "metadata": {},
   "source": [
    "2)String islower() method\n",
    "\n",
    "  islower() returns \"true if all charecters of the string are lowercase character.\n",
    "  \n",
    "syntax\n",
    "  \n",
    "  string.islower()\n",
    "  \n",
    " retuen types:\n",
    " *true- if all characters of the string are lowercase characters.\n",
    " *false- if any of the characters is not in lowercase character."
   ]
  },
  {
   "cell_type": "code",
   "execution_count": 5,
   "metadata": {},
   "outputs": [
    {
     "name": "stdout",
     "output_type": "stream",
     "text": [
      "True\n",
      "True\n",
      "False\n",
      "False\n"
     ]
    }
   ],
   "source": [
    "str1 = \"swati\"\n",
    "print(str1.islower())\n",
    "str2 = \"swati.patil\"\n",
    "print(str2.islower())\n",
    "str3 = \"swati.PATIL\"\n",
    "print(str3.islower())\n",
    "str4 = \"SWATI.PATIL\"\n",
    "print(str4.islower())"
   ]
  },
  {
   "cell_type": "code",
   "execution_count": null,
   "metadata": {},
   "outputs": [],
   "source": []
  }
 ],
 "metadata": {
  "kernelspec": {
   "display_name": "Python 3",
   "language": "python",
   "name": "python3"
  },
  "language_info": {
   "codemirror_mode": {
    "name": "ipython",
    "version": 3
   },
   "file_extension": ".py",
   "mimetype": "text/x-python",
   "name": "python",
   "nbconvert_exporter": "python",
   "pygments_lexer": "ipython3",
   "version": "3.7.6"
  }
 },
 "nbformat": 4,
 "nbformat_minor": 4
}
