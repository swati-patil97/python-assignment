{
 "cells": [
  {
   "cell_type": "code",
   "execution_count": 2,
   "metadata": {},
   "outputs": [
    {
     "name": "stdout",
     "output_type": "stream",
     "text": [
      "Original Dictionary: {21: 'FTP', 22: 'SSH', 23: 'telnet', 80: 'http'}\n",
      "swaped new dictionary: {'FTP': 21, 'SSH': 22, 'telnet': 23, 'http': 80}\n"
     ]
    }
   ],
   "source": [
    "\"\"\"Code for Day-7 Assignment-1\"\"\"\n",
    "\n",
    "port1 = {21:\"FTP\",22:\"SSH\",23:\"telnet\",80:\"http\"}\n",
    "print(\"Original Dictionary:\",port1)\n",
    "port2 = {value:key for key,value in port1.items()}\n",
    "print(\"swaped new dictionary:\",port2)"
   ]
  },
  {
   "cell_type": "code",
   "execution_count": 3,
   "metadata": {},
   "outputs": [
    {
     "name": "stdout",
     "output_type": "stream",
     "text": [
      "[3, 7, 11, 9]\n"
     ]
    }
   ],
   "source": [
    "\"\"\"Code for Day-7 Assignment-2\"\"\"\n",
    "\n",
    "list1 = [(1,2),(3,4),(5,6),(4,5)]\n",
    "result = []\n",
    "for each in range(0,len(list1)):\n",
    "    a,b = list1[each]\n",
    "    result.append(a+b)\n",
    "print(result)"
   ]
  },
  {
   "cell_type": "code",
   "execution_count": 6,
   "metadata": {},
   "outputs": [
    {
     "name": "stdout",
     "output_type": "stream",
     "text": [
      "[1, 2, 3, 1, 2, 'a', 'hit', 'less']\n"
     ]
    }
   ],
   "source": [
    "\"\"\"Code for Day-7 Assignment-3\"\"\"\n",
    "\n",
    "list1 = [(1,2,3),[1,2],['a','hit','less']]\n",
    "list2 = []\n",
    "list2 = [i for each in list1 for i in each]\n",
    "print(list2)"
   ]
  },
  {
   "cell_type": "code",
   "execution_count": null,
   "metadata": {},
   "outputs": [],
   "source": []
  }
 ],
 "metadata": {
  "kernelspec": {
   "display_name": "Python 3",
   "language": "python",
   "name": "python3"
  },
  "language_info": {
   "codemirror_mode": {
    "name": "ipython",
    "version": 3
   },
   "file_extension": ".py",
   "mimetype": "text/x-python",
   "name": "python",
   "nbconvert_exporter": "python",
   "pygments_lexer": "ipython3",
   "version": "3.7.6"
  }
 },
 "nbformat": 4,
 "nbformat_minor": 4
}
