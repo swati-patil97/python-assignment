{
 "cells": [
  {
   "cell_type": "code",
   "execution_count": 13,
   "metadata": {},
   "outputs": [
    {
     "name": "stdout",
     "output_type": "stream",
     "text": [
      "Enter the value of number : 6\n",
      "sum of first 6 natural numbers is : 21\n"
     ]
    }
   ],
   "source": [
    "num = int(input(\"Enter the value of number : \"))\n",
    "n = num\n",
    "sum = 0\n",
    "  \n",
    "while num > 0:\n",
    "    sum = sum + num\n",
    "    num = num - 1;\n",
    "    \n",
    "print(\"sum of first\",n,\"natural numbers is :\", sum)"
   ]
  }
 ],
 "metadata": {
  "kernelspec": {
   "display_name": "Python 3",
   "language": "python",
   "name": "python3"
  },
  "language_info": {
   "codemirror_mode": {
    "name": "ipython",
    "version": 3
   },
   "file_extension": ".py",
   "mimetype": "text/x-python",
   "name": "python",
   "nbconvert_exporter": "python",
   "pygments_lexer": "ipython3",
   "version": "3.7.6"
  }
 },
 "nbformat": 4,
 "nbformat_minor": 4
}
