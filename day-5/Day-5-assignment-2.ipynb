{
 "cells": [
  {
   "cell_type": "code",
   "execution_count": 4,
   "metadata": {},
   "outputs": [
    {
     "name": "stdout",
     "output_type": "stream",
     "text": [
      "list1 is: [10, 20, 40, 60, 70, 80]\n",
      "list2 is: [5, 15, 25, 35, 45, 60]\n",
      "result: [5, 10, 15, 20, 25, 35, 40, 45, 60, 60, 70, 80]\n"
     ]
    }
   ],
   "source": [
    "list1 = [10,20,40,60,70,80]\n",
    "list2 = [5,15,25,35,45,60]\n",
    "\n",
    "print(\"list1 is:\",list1)\n",
    "print(\"list2 is:\",list2)\n",
    "\n",
    "size1 = len(list1)\n",
    "size2 = len(list2)\n",
    "\n",
    "res = []\n",
    "i,j= 0,0\n",
    "\n",
    "while i < size1 and j < size2:\n",
    "    if list1[i] < list2[j]:\n",
    "        res.append(list1[i])\n",
    "        i += 1\n",
    "    else:\n",
    "        res.append(list2[j])\n",
    "        j += 1\n",
    "        \n",
    "res = res + list1[i:] + list2[j:]\n",
    "print(\"result:\",str(res))"
   ]
  },
  {
   "cell_type": "code",
   "execution_count": null,
   "metadata": {},
   "outputs": [],
   "source": []
  }
 ],
 "metadata": {
  "kernelspec": {
   "display_name": "Python 3",
   "language": "python",
   "name": "python3"
  },
  "language_info": {
   "codemirror_mode": {
    "name": "ipython",
    "version": 3
   },
   "file_extension": ".py",
   "mimetype": "text/x-python",
   "name": "python",
   "nbconvert_exporter": "python",
   "pygments_lexer": "ipython3",
   "version": "3.7.6"
  }
 },
 "nbformat": 4,
 "nbformat_minor": 4
}
